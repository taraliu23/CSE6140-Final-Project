{
 "cells": [
  {
   "cell_type": "code",
   "execution_count": 2,
   "metadata": {},
   "outputs": [],
   "source": [
    "import os\n",
    "import math\n"
   ]
  },
  {
   "cell_type": "code",
   "execution_count": 4,
   "metadata": {},
   "outputs": [],
   "source": [
    "\n",
    "def read_tsp(file_path):\n",
    "    \"\"\"Parses a .tsp file and extracts points as a list of (id, x, y).\"\"\"\n",
    "    # Ensure the file path is correct relative to this script's directory\n",
    "    # full_path = os.path.join(os.path.dirname(__file__), \"..\", file_path)\n",
    "    points = []\n",
    "\n",
    "    try:\n",
    "        with open(file_path, 'r') as f:\n",
    "            lines = f.readlines()\n",
    "\n",
    "        # Debugging: Print all lines for verification\n",
    "        # print(\"DEBUG: File lines:\\n\", lines)\n",
    "\n",
    "        # Skip the first 5 lines and process the coordinate section\n",
    "        for line in lines[5:]:\n",
    "            line = line.strip()\n",
    "\n",
    "            if line == \"EOF\":  # Stop parsing at \"EOF\"\n",
    "                break\n",
    "\n",
    "            parts = line.split()\n",
    "            if len(parts) == 3:  # Ensure it has id, x, y\n",
    "                node_id, x, y = int(parts[0]), float(parts[1]), float(parts[2])\n",
    "                points.append((node_id, x, y))\n",
    "    except FileNotFoundError:\n",
    "        raise FileNotFoundError(f\"Input file not found: {full_path}\")\n",
    "    except Exception as e:\n",
    "        raise RuntimeError(f\"Error reading TSP file {full_path}: {e}\")\n",
    "\n",
    "    # Debugging: Print the parsed points for verification\n",
    "    # print(f\"DEBUG: Parsed points: {points}\")\n",
    "\n",
    "    return points"
   ]
  },
  {
   "cell_type": "code",
   "execution_count": 5,
   "metadata": {},
   "outputs": [],
   "source": [
    "\n",
    "\n",
    "def create_distance_matrix(points):\n",
    "    \"\"\"Creates a distance matrix from points.\"\"\"\n",
    "    n = len(points)\n",
    "    matrix = [[0] * n for _ in range(n)]\n",
    "    for i in range(n):\n",
    "        for j in range(i + 1, n):\n",
    "            dist = euclidean_distance(points[i], points[j])\n",
    "            matrix[i][j] = matrix[j][i] = dist\n",
    "    return matrix\n",
    "\n",
    "\n",
    "def euclidean_distance(p1, p2):\n",
    "    \"\"\"Calculates the Euclidean distance between two points.\"\"\"\n",
    "    return math.sqrt((p1[1] - p2[1]) ** 2 + (p1[2] - p2[2]) ** 2)"
   ]
  },
  {
   "cell_type": "code",
   "execution_count": 10,
   "metadata": {},
   "outputs": [],
   "source": [
    "points = read_tsp(file_path=\"../input/Atlanta.tsp\")"
   ]
  },
  {
   "cell_type": "code",
   "execution_count": 38,
   "metadata": {},
   "outputs": [],
   "source": [
    "from itertools import permutations\n",
    "import time\n",
    "from utils import create_distance_matrix\n",
    "\n",
    "def brute_force_tsp(points, cutoff):\n",
    "    \"\"\"\n",
    "    Finds the TSP tour using brute force within the time cutoff.\n",
    "    :param points: List of (id, x, y) tuples.\n",
    "    :param cutoff: Time limit in seconds.\n",
    "    :return: (cost, tour) where cost is the total distance and tour is the list of indices.\n",
    "    \"\"\"\n",
    "    \n",
    "    start_time = time.time()\n",
    "    \n",
    "    # Validate input\n",
    "    if not points or len(points) == 0:\n",
    "        raise ValueError(\"No points provided for TSP\")\n",
    "\n",
    "    best_cost = float('inf')\n",
    "    best_tour = []\n",
    "    n = len(points)\n",
    "    distance_matrix = create_distance_matrix(points)\n",
    "\n",
    "    # cutoff_time = float(cutoff)\n",
    "    # Iterate through all permutations\n",
    "    for perm in permutations(range(n)):\n",
    "        if time.time() - start_time > cutoff:\n",
    "            break\n",
    "        cost = sum(distance_matrix[perm[i]][perm[i + 1]] for i in range(n - 1))\n",
    "        cost += distance_matrix[perm[-1]][perm[0]]  # Complete the cycle\n",
    "        if cost < best_cost:\n",
    "            best_cost = cost\n",
    "            best_tour = perm\n",
    "\n",
    "    return best_cost, list(best_tour)"
   ]
  },
  {
   "cell_type": "code",
   "execution_count": null,
   "metadata": {},
   "outputs": [],
   "source": [
    "cost, tour = brute_force_tsp(points, cutoff=10)\n"
   ]
  },
  {
   "cell_type": "code",
   "execution_count": 35,
   "metadata": {},
   "outputs": [
    {
     "name": "stdout",
     "output_type": "stream",
     "text": [
      "Cost: 3816909.110191864, Tour: [0, 1, 2, 3, 4, 5, 6, 7, 8, 9, 15, 18, 14, 13, 17, 10, 19, 11, 12, 16]\n"
     ]
    }
   ],
   "source": [
    "\n",
    "print(f\"Cost: {cost}, Tour: {tour}\")"
   ]
  },
  {
   "cell_type": "code",
   "execution_count": null,
   "metadata": {},
   "outputs": [],
   "source": [
    "# mst_approximation.py\n",
    "from scipy.sparse.csgraph import minimum_spanning_tree\n",
    "\n",
    "def mst_approximation_tsp(points):\n",
    "    \"\"\"Approximates TSP using a Minimum Spanning Tree.\"\"\"\n",
    "    distance_matrix = create_distance_matrix(points)\n",
    "    mst = minimum_spanning_tree(distance_matrix).toarray()\n",
    "    visited = set()\n",
    "\n",
    "    # Perform a preorder traversal of the MST to get the tour\n",
    "    def dfs(node, tour):\n",
    "        visited.add(node)\n",
    "        tour.append(node)\n",
    "        for neighbor in range(len(points)):\n",
    "            if mst[node][neighbor] > 0 and neighbor not in visited:\n",
    "                dfs(neighbor, tour)\n",
    "\n",
    "    tour = []\n",
    "    dfs(0, tour)\n",
    "    tour.append(0)  # Complete the cycle\n",
    "\n",
    "    cost = sum(distance_matrix[tour[i]][tour[i+1]] for i in range(len(tour)-1))\n",
    "    return cost, tour"
   ]
  },
  {
   "cell_type": "code",
   "execution_count": 27,
   "metadata": {},
   "outputs": [],
   "source": [
    "def test_mst_approximation(file_path):\n",
    "    # file_path = \"input/Atlanta.tsp\"\n",
    "    points = read_tsp(file_path)\n",
    "    cost, tour = mst_approximation_tsp(points)\n",
    "    print(f\"Approximate TSP cost: {cost}\")\n",
    "    \n",
    "    print(f\"Approximate TSP tour: {tour}\")\n",
    "    return cost, tour"
   ]
  },
  {
   "cell_type": "code",
   "execution_count": 31,
   "metadata": {},
   "outputs": [
    {
     "name": "stdout",
     "output_type": "stream",
     "text": [
      "Approximate TSP cost: 305974.4741402309\n",
      "Approximate TSP tour: [0, 1, 2, 16, 6, 0]\n"
     ]
    },
    {
     "data": {
      "text/plain": [
       "(305974.4741402309, [0, 1, 2, 16, 6, 0])"
      ]
     },
     "execution_count": 31,
     "metadata": {},
     "output_type": "execute_result"
    }
   ],
   "source": [
    "test_mst_approximation(\n",
    "    file_path=\"input/Atlanta.tsp\")"
   ]
  },
  {
   "cell_type": "code",
   "execution_count": 32,
   "metadata": {},
   "outputs": [],
   "source": [
    "\n",
    "import random\n",
    "import math\n",
    "from utils import create_distance_matrix\n",
    "import time\n",
    "\n",
    "\n",
    "def calculate_cost(tour, distance_matrix):\n",
    "    \"\"\"\n",
    "    Calculates the total cost of a TSP tour.\n",
    "    :param tour: List of indices representing the tour.\n",
    "    :param distance_matrix: 2D list or numpy array with pairwise distances.\n",
    "    :return: Total cost of the tour.\n",
    "    \"\"\"\n",
    "    cost = sum(distance_matrix[tour[i]][tour[i + 1]]\n",
    "               for i in range(len(tour) - 1))\n",
    "    cost += distance_matrix[tour[-1]][tour[0]]  # Return to the starting city\n",
    "    return cost\n",
    "\n",
    "\n",
    "def simulated_annealing_tsp(points, cutoff, seed=None):\n",
    "    \"\"\"Finds a near-optimal TSP tour using simulated annealing.\"\"\"\n",
    "    random.seed(seed)\n",
    "    start_time = time.time()\n",
    "    n = len(points)\n",
    "    if n == 0:\n",
    "        raise ValueError(\"No points provided for TSP\")\n",
    "\n",
    "    distance_matrix = create_distance_matrix(points)\n",
    "\n",
    "    # Initial random tour\n",
    "    current_tour = list(range(n))\n",
    "    random.shuffle(current_tour)\n",
    "    current_cost = calculate_cost(current_tour, distance_matrix)\n",
    "\n",
    "    best_tour, best_cost = current_tour[:], current_cost\n",
    "    T = 1000  # Initial temperature\n",
    "    alpha = 0.995  # Cooling rate\n",
    "    epsilon = 1e-3  # Minimum temperature\n",
    "\n",
    "    while time.time() - start_time < cutoff and T > epsilon:\n",
    "        # Swap two cities\n",
    "        i, j = random.sample(range(n), 2)\n",
    "        new_tour = current_tour[:]\n",
    "        new_tour[i], new_tour[j] = new_tour[j], new_tour[i]\n",
    "        new_cost = calculate_cost(new_tour, distance_matrix)\n",
    "\n",
    "        # Accept the new tour based on probability\n",
    "        if new_cost < current_cost or random.random() < math.exp((current_cost - new_cost) / T):\n",
    "            current_tour, current_cost = new_tour, new_cost\n",
    "\n",
    "        # Update the best solution\n",
    "        if current_cost < best_cost:\n",
    "            best_tour, best_cost = current_tour[:], current_cost\n",
    "\n",
    "        T *= alpha  # Cool down\n",
    "\n",
    "    return best_cost, best_tour\n",
    "\n",
    "\n",
    "def simulated_annealing_tsp(points, cutoff, seed=None):\n",
    "    \"\"\"\n",
    "    Solves the TSP using Simulated Annealing.\n",
    "    :param points: List of (id, x, y) tuples.\n",
    "    :param cutoff: Time limit in seconds.\n",
    "    :param seed: Random seed for reproducibility.\n",
    "    :return: (cost, tour) where cost is the total distance and tour is the list of indices.\n",
    "    \"\"\"\n",
    "    random.seed(seed)\n",
    "    n = len(points)\n",
    "    if n == 0:\n",
    "        raise ValueError(\"No points provided for TSP\")\n",
    "\n",
    "    distance_matrix = create_distance_matrix(points)\n",
    "\n",
    "    # Step 1: Initialize with a random tour\n",
    "    current_tour = list(range(n))\n",
    "    random.shuffle(current_tour)\n",
    "    current_cost = calculate_cost(current_tour, distance_matrix)\n",
    "\n",
    "    best_tour = current_tour[:]\n",
    "    best_cost = current_cost\n",
    "\n",
    "    # Step 2: Define the annealing parameters\n",
    "    T = 1000  # Initial temperature\n",
    "    alpha = 0.995  # Cooling rate\n",
    "    epsilon = 1e-3  # Minimum temperature\n",
    "    start_time = time.time()\n",
    "\n",
    "    while T > epsilon and (time.time() - start_time) < cutoff:\n",
    "        # Step 3: Generate a neighbor (swap two cities)\n",
    "        i, j = random.sample(range(n), 2)\n",
    "        new_tour = current_tour[:]\n",
    "        new_tour[i], new_tour[j] = new_tour[j], new_tour[i]\n",
    "\n",
    "        new_cost = calculate_cost(new_tour, distance_matrix)\n",
    "\n",
    "        # Step 4: Accept the new tour based on the acceptance probability\n",
    "        if new_cost < current_cost or random.random() < math.exp((current_cost - new_cost) / T):\n",
    "            current_tour = new_tour\n",
    "            current_cost = new_cost\n",
    "\n",
    "            # Update the best solution if the new one is better\n",
    "            if new_cost < best_cost:\n",
    "                best_tour = new_tour\n",
    "                best_cost = new_cost\n",
    "\n",
    "        # Step 5: Cool down the temperature\n",
    "        T *= alpha\n",
    "\n",
    "    return best_cost, best_tour"
   ]
  },
  {
   "cell_type": "code",
   "execution_count": 33,
   "metadata": {},
   "outputs": [
    {
     "data": {
      "text/plain": [
       "(2302553.099562435,\n",
       " [4, 12, 6, 0, 1, 2, 16, 5, 9, 15, 3, 18, 14, 7, 13, 17, 8, 11, 10, 19])"
      ]
     },
     "execution_count": 33,
     "metadata": {},
     "output_type": "execute_result"
    }
   ],
   "source": [
    "simulated_annealing_tsp(points, cutoff=10)"
   ]
  },
  {
   "cell_type": "code",
   "execution_count": 36,
   "metadata": {},
   "outputs": [],
   "source": [
    "from algorithms import brute_force, mst_approximation, simulated_annealing"
   ]
  },
  {
   "cell_type": "code",
   "execution_count": null,
   "metadata": {},
   "outputs": [
    {
     "name": "stdout",
     "output_type": "stream",
     "text": [
      "Unexpected exception formatting exception. Falling back to standard exception\n"
     ]
    },
    {
     "name": "stderr",
     "output_type": "stream",
     "text": [
      "Traceback (most recent call last):\n",
      "  File \"/Users/rainylty/opt/anaconda3/envs/city8/lib/python3.10/site-packages/IPython/core/interactiveshell.py\", line 3378, in run_code\n",
      "    exec(code_obj, self.user_global_ns, self.user_ns)\n",
      "  File \"/var/folders/38/ttqg2y215g16g2ng7jd502_c0000gn/T/ipykernel_41205/408185690.py\", line 1, in <module>\n",
      "    cost, tour = brute_force.brute_force_tsp(points, cutoff=10)\n",
      "  File \"/Users/rainylty/STUDY/fall24/4-Course/2-ALGxCSE6140/3-Project/CSE6140-Final-Project/code/algorithms/brute_force.py\", line 28, in brute_force_tsp\n",
      "  File \"/Users/rainylty/STUDY/fall24/4-Course/2-ALGxCSE6140/3-Project/CSE6140-Final-Project/code/algorithms/brute_force.py\", line 28, in <genexpr>\n",
      "TypeError: 'int' object is not subscriptable\n",
      "\n",
      "During handling of the above exception, another exception occurred:\n",
      "\n",
      "Traceback (most recent call last):\n",
      "  File \"/Users/rainylty/opt/anaconda3/envs/city8/lib/python3.10/site-packages/IPython/core/interactiveshell.py\", line 1997, in showtraceback\n",
      "    stb = self.InteractiveTB.structured_traceback(\n",
      "  File \"/Users/rainylty/opt/anaconda3/envs/city8/lib/python3.10/site-packages/IPython/core/ultratb.py\", line 1112, in structured_traceback\n",
      "    return FormattedTB.structured_traceback(\n",
      "  File \"/Users/rainylty/opt/anaconda3/envs/city8/lib/python3.10/site-packages/IPython/core/ultratb.py\", line 1006, in structured_traceback\n",
      "    return VerboseTB.structured_traceback(\n",
      "  File \"/Users/rainylty/opt/anaconda3/envs/city8/lib/python3.10/site-packages/IPython/core/ultratb.py\", line 859, in structured_traceback\n",
      "    formatted_exception = self.format_exception_as_a_whole(etype, evalue, etb, number_of_lines_of_context,\n",
      "  File \"/Users/rainylty/opt/anaconda3/envs/city8/lib/python3.10/site-packages/IPython/core/ultratb.py\", line 812, in format_exception_as_a_whole\n",
      "    frames.append(self.format_record(r))\n",
      "  File \"/Users/rainylty/opt/anaconda3/envs/city8/lib/python3.10/site-packages/IPython/core/ultratb.py\", line 730, in format_record\n",
      "    result += ''.join(_format_traceback_lines(frame_info.lines, Colors, self.has_colors, lvals))\n",
      "  File \"/Users/rainylty/opt/anaconda3/envs/city8/lib/python3.10/site-packages/stack_data/utils.py\", line 145, in cached_property_wrapper\n",
      "    value = obj.__dict__[self.func.__name__] = self.func(obj)\n",
      "  File \"/Users/rainylty/opt/anaconda3/envs/city8/lib/python3.10/site-packages/stack_data/core.py\", line 734, in lines\n",
      "    pieces = self.included_pieces\n",
      "  File \"/Users/rainylty/opt/anaconda3/envs/city8/lib/python3.10/site-packages/stack_data/utils.py\", line 145, in cached_property_wrapper\n",
      "    value = obj.__dict__[self.func.__name__] = self.func(obj)\n",
      "  File \"/Users/rainylty/opt/anaconda3/envs/city8/lib/python3.10/site-packages/stack_data/core.py\", line 681, in included_pieces\n",
      "    pos = scope_pieces.index(self.executing_piece)\n",
      "  File \"/Users/rainylty/opt/anaconda3/envs/city8/lib/python3.10/site-packages/stack_data/utils.py\", line 145, in cached_property_wrapper\n",
      "    value = obj.__dict__[self.func.__name__] = self.func(obj)\n",
      "  File \"/Users/rainylty/opt/anaconda3/envs/city8/lib/python3.10/site-packages/stack_data/core.py\", line 660, in executing_piece\n",
      "    return only(\n",
      "  File \"/Users/rainylty/opt/anaconda3/envs/city8/lib/python3.10/site-packages/executing/executing.py\", line 167, in only\n",
      "    raise NotOneValueFound('Expected one value, found 0')\n",
      "executing.executing.NotOneValueFound: Expected one value, found 0\n"
     ]
    }
   ],
   "source": [
    "cost, tour = brute_force.brute_force_tsp(points, cutoff=10)\n"
   ]
  },
  {
   "cell_type": "code",
   "execution_count": 39,
   "metadata": {},
   "outputs": [],
   "source": [
    "\n",
    "cost, tour = brute_force_tsp(points, cutoff=10)\n"
   ]
  }
 ],
 "metadata": {
  "kernelspec": {
   "display_name": "city8",
   "language": "python",
   "name": "python3"
  },
  "language_info": {
   "codemirror_mode": {
    "name": "ipython",
    "version": 3
   },
   "file_extension": ".py",
   "mimetype": "text/x-python",
   "name": "python",
   "nbconvert_exporter": "python",
   "pygments_lexer": "ipython3",
   "version": "3.10.5"
  }
 },
 "nbformat": 4,
 "nbformat_minor": 2
}

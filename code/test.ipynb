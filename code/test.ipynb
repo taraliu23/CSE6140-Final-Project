{
 "cells": [
  {
   "cell_type": "code",
   "execution_count": 10,
   "metadata": {},
   "outputs": [],
   "source": [
    "import os\n",
    "import math\n"
   ]
  },
  {
   "cell_type": "code",
   "execution_count": 12,
   "metadata": {},
   "outputs": [],
   "source": [
    "\n",
    "def read_tsp(file_path):\n",
    "    \"\"\"Parses a .tsp file and extracts points as a list of (id, x, y).\"\"\"\n",
    "    # Ensure the file path is correct relative to this script's directory\n",
    "    # full_path = os.path.join(os.path.dirname(__file__), \"..\", file_path)\n",
    "    points = []\n",
    "\n",
    "    try:\n",
    "        with open(file_path, 'r') as f:\n",
    "            lines = f.readlines()\n",
    "\n",
    "        # Debugging: Print all lines for verification\n",
    "        # print(\"DEBUG: File lines:\\n\", lines)\n",
    "\n",
    "        # Skip the first 5 lines and process the coordinate section\n",
    "        for line in lines[5:]:\n",
    "            line = line.strip()\n",
    "\n",
    "            if line == \"EOF\":  # Stop parsing at \"EOF\"\n",
    "                break\n",
    "\n",
    "            parts = line.split()\n",
    "            if len(parts) == 3:  # Ensure it has id, x, y\n",
    "                node_id, x, y = int(parts[0]), float(parts[1]), float(parts[2])\n",
    "                points.append((node_id, x, y))\n",
    "    except FileNotFoundError:\n",
    "        raise FileNotFoundError(f\"Input file not found: {full_path}\")\n",
    "    except Exception as e:\n",
    "        raise RuntimeError(f\"Error reading TSP file {full_path}: {e}\")\n",
    "\n",
    "    # Debugging: Print the parsed points for verification\n",
    "    # print(f\"DEBUG: Parsed points: {points}\")\n",
    "\n",
    "    return points"
   ]
  },
  {
   "cell_type": "code",
   "execution_count": 7,
   "metadata": {},
   "outputs": [],
   "source": [
    "\n",
    "\n",
    "def create_distance_matrix(points):\n",
    "    \"\"\"Creates a distance matrix from points.\"\"\"\n",
    "    n = len(points)\n",
    "    matrix = [[0] * n for _ in range(n)]\n",
    "    for i in range(n):\n",
    "        for j in range(i + 1, n):\n",
    "            dist = euclidean_distance(points[i], points[j])\n",
    "            matrix[i][j] = matrix[j][i] = dist\n",
    "    return matrix\n",
    "\n",
    "\n",
    "def euclidean_distance(p1, p2):\n",
    "    \"\"\"Calculates the Euclidean distance between two points.\"\"\"\n",
    "    return math.sqrt((p1[1] - p2[1]) ** 2 + (p1[2] - p2[2]) ** 2)"
   ]
  },
  {
   "cell_type": "code",
   "execution_count": 9,
   "metadata": {},
   "outputs": [
    {
     "data": {
      "text/plain": [
       "[(1, 33665568.0, -84411070.0),\n",
       " (2, 33764940.0, -84371819.0),\n",
       " (3, 33770889.0, -84358622.0),\n",
       " (4, 34233391.0, -84103278.0),\n",
       " (5, 33921088.0, -84337342.0),\n",
       " (6, 34087634.0, -84530646.0),\n",
       " (7, 33683084.0, -84442307.0),\n",
       " (8, 33968483.0, -84204487.0),\n",
       " (9, 33809946.0, -84438909.0),\n",
       " (10, 34070898.0, -84277636.0),\n",
       " (11, 33903368.0, -84376924.0),\n",
       " (12, 33836703.0, -84481173.0),\n",
       " (13, 33792891.0, -84396721.0),\n",
       " (14, 33975761.0, -84265625.0),\n",
       " (15, 34002830.0, -84146049.0),\n",
       " (16, 34091985.0, -84275997.0),\n",
       " (17, 33788510.0, -84369260.0),\n",
       " (18, 33872130.0, -84261650.0),\n",
       " (19, 34003208.0, -84040883.0),\n",
       " (20, 33936017.0, -84388948.0)]"
      ]
     },
     "execution_count": 9,
     "metadata": {},
     "output_type": "execute_result"
    }
   ],
   "source": [
    "read_tsp(file_path=\"../input/Atlanta.tsp\")"
   ]
  },
  {
   "cell_type": "code",
   "execution_count": null,
   "metadata": {},
   "outputs": [],
   "source": [
    "from itertools import permutations\n",
    "import time\n",
    "from utils import create_distance_matrix\n",
    "\n",
    "\n",
    "def brute_force_tsp(points, cutoff):\n",
    "    \"\"\"\n",
    "    Finds the TSP tour using brute force within the time cutoff.\n",
    "    :param points: List of (id, x, y) tuples.\n",
    "    :param cutoff: Time limit in seconds.\n",
    "    :return: (cost, tour) where cost is the total distance and tour is the list of indices.\n",
    "    \"\"\"\n",
    "    start_time = time.time()\n",
    "\n",
    "    # Validate input\n",
    "    if not points or len(points) == 0:\n",
    "        raise ValueError(\"No points provided for TSP\")\n",
    "\n",
    "    best_cost = float('inf')\n",
    "    best_tour = []\n",
    "    n = len(points)\n",
    "    distance_matrix = create_distance_matrix(points)\n",
    "\n",
    "    # Iterate through all permutations\n",
    "    for perm in permutations(range(n)):\n",
    "        if time.time() - start_time > cutoff:\n",
    "            break\n",
    "        cost = sum(distance_matrix[perm[i]][perm[i + 1]] for i in range(n - 1))\n",
    "        cost += distance_matrix[perm[-1]][perm[0]]  # Complete the cycle\n",
    "        if cost < best_cost:\n",
    "            best_cost = cost\n",
    "            best_tour = perm\n",
    "\n",
    "    return best_cost, list(best_tour)"
   ]
  },
  {
   "cell_type": "code",
   "execution_count": 1,
   "metadata": {},
   "outputs": [],
   "source": [
    "# mst_approximation.py\n",
    "from scipy.sparse.csgraph import minimum_spanning_tree\n",
    "\n",
    "\n",
    "def mst_approximation_tsp(points):\n",
    "    \"\"\"Approximates TSP using a Minimum Spanning Tree.\"\"\"\n",
    "    distance_matrix = create_distance_matrix(points)\n",
    "    mst = minimum_spanning_tree(distance_matrix).toarray()\n",
    "    visited = set()\n",
    "\n",
    "    # Perform a preorder traversal of the MST to get the tour\n",
    "    def dfs(node, tour):\n",
    "        visited.add(node)\n",
    "        tour.append(node)\n",
    "        for neighbor in range(len(points)):\n",
    "            if mst[node][neighbor] > 0 and neighbor not in visited:\n",
    "                dfs(neighbor, tour)\n",
    "\n",
    "    tour = []\n",
    "    dfs(0, tour)\n",
    "    tour.append(0)  # Complete the cycle\n",
    "\n",
    "    cost = sum(distance_matrix[tour[i]][tour[i+1]] for i in range(len(tour)-1))\n",
    "    return cost, tour"
   ]
  },
  {
   "cell_type": "code",
   "execution_count": 15,
   "metadata": {},
   "outputs": [],
   "source": [
    "def test_mst_approximation(file_path):\n",
    "    # file_path = \"input/Atlanta.tsp\"\n",
    "    points = read_tsp(file_path)\n",
    "    cost, tour = mst_approximation_tsp(points)\n",
    "    print(f\"Approximate TSP cost: {cost}\")\n",
    "    \n",
    "    print(f\"Approximate TSP tour: {tour}\")\n",
    "    return cost, tour"
   ]
  },
  {
   "cell_type": "code",
   "execution_count": 16,
   "metadata": {},
   "outputs": [
    {
     "name": "stdout",
     "output_type": "stream",
     "text": [
      "Approximate TSP cost: 305974.4741402309\n",
      "Approximate TSP tour: [0, 1, 2, 16, 6, 0]\n"
     ]
    },
    {
     "data": {
      "text/plain": [
       "(305974.4741402309, [0, 1, 2, 16, 6, 0])"
      ]
     },
     "execution_count": 16,
     "metadata": {},
     "output_type": "execute_result"
    }
   ],
   "source": [
    "test_mst_approximation(file_path=\"../input/Atlanta.tsp\")"
   ]
  }
 ],
 "metadata": {
  "kernelspec": {
   "display_name": "city8",
   "language": "python",
   "name": "python3"
  },
  "language_info": {
   "codemirror_mode": {
    "name": "ipython",
    "version": 3
   },
   "file_extension": ".py",
   "mimetype": "text/x-python",
   "name": "python",
   "nbconvert_exporter": "python",
   "pygments_lexer": "ipython3",
   "version": "3.10.5"
  }
 },
 "nbformat": 4,
 "nbformat_minor": 2
}
